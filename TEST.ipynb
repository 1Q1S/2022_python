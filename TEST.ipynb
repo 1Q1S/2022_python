{
 "cells": [
  {
   "cell_type": "code",
   "execution_count": 24,
   "metadata": {},
   "outputs": [
    {
     "name": "stdout",
     "output_type": "stream",
     "text": [
      "hello python\n"
     ]
    }
   ],
   "source": [
    "print('hello python')"
   ]
  },
  {
   "cell_type": "code",
   "execution_count": 25,
   "metadata": {},
   "outputs": [
    {
     "name": "stdout",
     "output_type": "stream",
     "text": [
      "{'1월': 31, '2월': 28, '3월': 31, '4월': 30, '5월': 31, '6월': 30, '7월': 31, '8월': 31, '9월': 30, '10월': 31, '11월': 30, '12월': 31}\n"
     ]
    }
   ],
   "source": [
    "lastday={'1월':31,'2월':28,'3월':31,'4월':30,'5월':31,'6월':30,'7월':31,'8월':31,'9월':30,'10월':31,'11월':30,'12월':31}\n",
    "print(lastday)"
   ]
  },
  {
   "cell_type": "code",
   "execution_count": 37,
   "metadata": {},
   "outputs": [
    {
     "name": "stdout",
     "output_type": "stream",
     "text": [
      "{'1월': 31, '2월': 28, '3월': 31, '4월': 30, '5월': 31, '6월': 30, '7월': 31, '8월': 31, '9월': 30, '10월': 31, '11월': 30, '12월': 31}\n"
     ]
    }
   ],
   "source": [
    "month_lastday={}\n",
    "lastday=0\n",
    "\n",
    "for i in range(1,13):\n",
    "\n",
    "    month=str(i) + '월'\n",
    "\n",
    "    if i ==2 :\n",
    "        lastday=28\n",
    "\n",
    "    elif i in [1,3,5,7,8,10,12] :\n",
    "        lastday=31\n",
    "\n",
    "    else :\n",
    "        lastday=30\n",
    "\n",
    "    month_lastday[month]=lastday\n",
    "\n",
    "\n",
    "print(month_lastday)\n",
    "\n",
    "    \n"
   ]
  },
  {
   "cell_type": "code",
   "execution_count": 39,
   "metadata": {},
   "outputs": [
    {
     "name": "stdout",
     "output_type": "stream",
     "text": [
      "{'1월': 31, '2월': 28, '3월': 31, '4월': 30, '5월': 31, '6월': 30, '7월': 31, '8월': 31, '9월': 30, '10월': 31, '11월': 30, '12월': 31}\n"
     ]
    }
   ],
   "source": [
    "month_lastday={}\n",
    "month_lastday_list = [31,28,31,30,31,30,31,31,30,31,30,31]\n",
    "\n",
    "for i, j in enumerate(month_lastday_list):\n",
    "\n",
    "    month=str(i+1) + '월'\n",
    "    lastday=j\n",
    "    \n",
    "    month_lastday[month]=lastday\n",
    "\n",
    "\n",
    "print(month_lastday)\n",
    "\n",
    "    \n"
   ]
  },
  {
   "cell_type": "code",
   "execution_count": 40,
   "metadata": {},
   "outputs": [
    {
     "name": "stdout",
     "output_type": "stream",
     "text": [
      "31 28 31\n"
     ]
    }
   ],
   "source": [
    "month_lastday={'1월': 31, '2월': 28, '3월': 31, '4월': 30, '5월': 31, '6월': 30, '7월': 31, '8월': 31, '9월': 30, '10월': 31, '11월': 30, '12월': 31}\n",
    "\n",
    "print(month_lastday['1월'],month_lastday['2월'],month_lastday['3월'])"
   ]
  },
  {
   "cell_type": "code",
   "execution_count": 45,
   "metadata": {},
   "outputs": [
    {
     "name": "stdout",
     "output_type": "stream",
     "text": [
      "1월\n",
      "2월\n",
      "3월\n",
      "4월\n",
      "5월\n",
      "6월\n",
      "7월\n",
      "8월\n",
      "9월\n",
      "10월\n",
      "11월\n",
      "12월\n",
      "1월\n",
      "2월\n",
      "3월\n",
      "4월\n",
      "5월\n",
      "6월\n",
      "7월\n",
      "8월\n",
      "9월\n",
      "10월\n",
      "11월\n",
      "12월\n"
     ]
    }
   ],
   "source": [
    "#딕셔너리이름. keys() // 딕셔너리의 key 값을  return 한다.\n",
    "month_lastday={'1월': 31, '2월': 28, '3월': 31, '4월': 30, '5월': 31, '6월': 30, '7월': 31, '8월': 31, '9월': 30, '10월': 31, '11월': 30, '12월': 31}\n",
    "\n",
    "for key in month_lastday.keys():\n",
    "    print(key)\n",
    "\n",
    "for key in month_lastday :\n",
    "    print(key)"
   ]
  },
  {
   "cell_type": "code",
   "execution_count": null,
   "metadata": {},
   "outputs": [],
   "source": []
  }
 ],
 "metadata": {
  "interpreter": {
   "hash": "0ef2662b2d123e7c06080618e4203543cfdddda4267359755803fd8e38324e19"
  },
  "kernelspec": {
   "display_name": "Python 3.10.2 64-bit",
   "language": "python",
   "name": "python3"
  },
  "language_info": {
   "codemirror_mode": {
    "name": "ipython",
    "version": 3
   },
   "file_extension": ".py",
   "mimetype": "text/x-python",
   "name": "python",
   "nbconvert_exporter": "python",
   "pygments_lexer": "ipython3",
   "version": "3.10.2"
  },
  "orig_nbformat": 4
 },
 "nbformat": 4,
 "nbformat_minor": 2
}
